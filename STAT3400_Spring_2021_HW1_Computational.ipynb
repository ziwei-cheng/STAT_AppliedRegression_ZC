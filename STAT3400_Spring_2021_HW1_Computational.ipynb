{
 "cells": [
  {
   "cell_type": "markdown",
   "metadata": {},
   "source": [
    "# Computational Homework #1\n",
    "\n",
    "**Due in class on Wednesday September 2, 2020 at 11:59PM**. Answer all of the following problems. These problems should be completed in this notebook (using the R kernel). Computational questions may require code, plots, analysis, interpretation, etc. Working in small groups is allowed, but it is important that you make an effort to master the material and hand in your own work. "
   ]
  },
  {
   "cell_type": "markdown",
   "metadata": {},
   "source": [
    "## Problem #1\n",
    "\n",
    "(Same setup as theoretical problem 2): The random variable $X$ can take on the values 0,1,2, and 3 with probabilities $P(X = 0) = p^3$, $P(X = 1) = (1-p)p^2$, $P(X = 2) = (1-p)^2$, and $P(X = 3) = 2p(1-p)$, where $0 < p < 1$. Graph the log likelihood function in R and place a  vertical line at the MLE found in theoretical problem 2. Does it look like the correct maximizer?\n"
   ]
  },
  {
   "cell_type": "code",
   "execution_count": 12,
   "metadata": {
    "collapsed": false
   },
   "outputs": [
    {
     "output_type": "error",
     "ename": "SyntaxError",
     "evalue": "invalid syntax (<ipython-input-12-229b9410af28>, line 1)",
     "traceback": [
      "\u001b[1;36m  File \u001b[1;32m\"<ipython-input-12-229b9410af28>\"\u001b[1;36m, line \u001b[1;32m1\u001b[0m\n\u001b[1;33m    l = function(p){\u001b[0m\n\u001b[1;37m                   ^\u001b[0m\n\u001b[1;31mSyntaxError\u001b[0m\u001b[1;31m:\u001b[0m invalid syntax\n"
     ]
    }
   ],
   "source": [
    "l = function(p){\n",
    "    l = 24*log(p^3)+54*log(p^2-p^3) + 32*log((1-p)^2) + 40*log(2*p-2*p^2)\n",
    "    return(l)\n",
    "}\n",
    "\n",
    "p = seq(0,1,length = 500);\n",
    "plot(p,l(p))\n"
   ]
  },
  {
   "cell_type": "code",
   "execution_count": null,
   "metadata": {},
   "outputs": [],
   "source": [
    "## Problem #2\n",
    "\n",
    "In this problem, we will look at the distribution of a particular maximum likelihood estimator (MLE). Remember from class that the MLE is an *estimator*, and as such, it has a probability distribution (because estimators are function of random variables, and thus, are random).\n",
    "\n",
    "#### (a) Generate $m = 500$ iid samples of size $n=10$ from an exponential distribution with rate $\\lambda = 1$. Your result (which you shouldn't print) should be a matrix where each column is a sample of size $n=10$. There should be $m = 500$ columns. \n",
    "\n",
    "Note: You can generate a single iid sample of size $n$ using the rexp() function. Also note that you should be able to generate the $m$ samples without using a loop!\n"
   ]
  },
  {
   "cell_type": "markdown",
   "metadata": {},
   "source": [
    "#### (b) For each sample (each column), calculate the MLE of $\\lambda$, denoted $\\widehat\\lambda$, using the formula derived in theoretical problem 5. The result should be a vector of size $m$. Call it mle. Since $m$ is large, this mle vector should be a good approximation of the true distribution of $\\widehat\\lambda$. Construct a histogram of mle and comment on its distribution: where is it centered? is it symmetric or skewed? high or low variability (with respect to the original population)?\n",
    "\n"
   ]
  },
  {
   "cell_type": "code",
   "execution_count": null,
   "metadata": {},
   "outputs": [],
   "source": [
    "#### (c) Now, using the result in theoretical problem 5b, calculate the MLE for the population mean (i.e., the expected value of the exponential distribution) for each sample that you constructed in part (a). call the resulting vector mle_mean. Then construct a histogram of mle_mean and comment on its distribution."
   ]
  },
  {
   "cell_type": "markdown",
   "metadata": {
    "collapsed": false
   },
   "source": []
  },
  {
   "cell_type": "markdown",
   "metadata": {},
   "source": [
    "#### (d) Repeat parts (a)-(c) of this question, but change the sample size to $n = 100$. What do you notice about the shape of  the resulting distributions? In the case of the MLE for the mean, what theorem (discussed in class and in applied probability) is this an example of?"
   ]
  },
  {
   "cell_type": "markdown",
   "metadata": {
    "collapsed": false
   },
   "source": []
  },
  {
   "cell_type": "code",
   "execution_count": null,
   "metadata": {
    "collapsed": true
   },
   "outputs": [],
   "source": []
  },
  {
   "cell_type": "markdown",
   "metadata": {},
   "source": []
  }
 ],
 "metadata": {
  "kernelspec": {
   "display_name": "Python 3.8.5 32-bit",
   "language": "R",
   "name": "python_defaultSpec_1599073736135"
  },
  "language_info": {
   "codemirror_mode": "r",
   "file_extension": ".r",
   "mimetype": "text/x-r-source",
   "name": "R",
   "pygments_lexer": "r",
   "version": "3.8.5-final"
  }
 },
 "nbformat": 4,
 "nbformat_minor": 2
}