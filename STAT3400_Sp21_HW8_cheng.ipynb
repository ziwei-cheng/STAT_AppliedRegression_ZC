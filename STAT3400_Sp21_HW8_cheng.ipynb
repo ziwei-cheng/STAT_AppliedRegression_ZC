{
 "cells": [
  {
   "cell_type": "markdown",
   "metadata": {},
   "source": [
    "# Homework #8\n",
    "\n",
    "**Due by midnight on Monday April 26, 2021**. Answer all of the following problems. These problems should be completed in this notebook (using the R kernel). Computational questions may require code, plots, analysis, interpretation, etc. Working in small groups is allowed, but it is important that you make an effort to master the material and hand in your own work. "
   ]
  },
  {
   "cell_type": "markdown",
   "metadata": {},
   "source": [
    "## Computational Problems"
   ]
  },
  {
   "cell_type": "markdown",
   "metadata": {},
   "source": [
    "### Problem #1\n",
    "\n",
    "#### (a) Using the divusa data, fit a regression of with divorce as the response and unemployed, femlab, marriage, birth, and military as predictors. Compute the variance inflation factors VIFs for each $\\widehat\\beta_j$, $j = 1,...,p$. Is there evidence that collinearity causes some predictors not to be significant? Explain your answer.\n",
    "\n"
   ]
  },
  {
   "cell_type": "code",
   "execution_count": 1,
   "metadata": {},
   "outputs": [
    {
     "name": "stderr",
     "output_type": "stream",
     "text": [
      "\n",
      "Attaching package: ‘pls’\n",
      "\n",
      "The following object is masked from ‘package:stats’:\n",
      "\n",
      "    loadings\n",
      "\n"
     ]
    }
   ],
   "source": [
    "library(faraway) #vif() will calculate variance inflation factors...\n",
    "data(divusa)\n",
    "library(pls)\n",
    "library(MASS)"
   ]
  },
  {
   "cell_type": "code",
   "execution_count": 2,
   "metadata": {},
   "outputs": [],
   "source": [
    "library(leaps)"
   ]
  },
  {
   "cell_type": "code",
   "execution_count": 3,
   "metadata": {},
   "outputs": [
    {
     "data": {
      "text/html": [
       "<dl class=dl-horizontal>\n",
       "\t<dt>unemployed</dt>\n",
       "\t\t<dd>2.25288785573732</dd>\n",
       "\t<dt>femlab</dt>\n",
       "\t\t<dd>3.61327568023517</dd>\n",
       "\t<dt>marriage</dt>\n",
       "\t\t<dd>2.86486398750284</dd>\n",
       "\t<dt>birth</dt>\n",
       "\t\t<dd>2.58548535026958</dd>\n",
       "\t<dt>military</dt>\n",
       "\t\t<dd>1.24959599784256</dd>\n",
       "</dl>\n"
      ],
      "text/latex": [
       "\\begin{description*}\n",
       "\\item[unemployed] 2.25288785573732\n",
       "\\item[femlab] 3.61327568023517\n",
       "\\item[marriage] 2.86486398750284\n",
       "\\item[birth] 2.58548535026958\n",
       "\\item[military] 1.24959599784256\n",
       "\\end{description*}\n"
      ],
      "text/markdown": [
       "unemployed\n",
       ":   2.25288785573732femlab\n",
       ":   3.61327568023517marriage\n",
       ":   2.86486398750284birth\n",
       ":   2.58548535026958military\n",
       ":   1.24959599784256\n",
       "\n"
      ],
      "text/plain": [
       "unemployed     femlab   marriage      birth   military \n",
       "  2.252888   3.613276   2.864864   2.585485   1.249596 "
      ]
     },
     "metadata": {},
     "output_type": "display_data"
    }
   ],
   "source": [
    "lmod=lm(divorce~unemployed+femlab+marriage+birth+military,data=divusa)\n",
    "vif(lmod)"
   ]
  },
  {
   "cell_type": "markdown",
   "metadata": {},
   "source": [
    "Answer:\n",
    "\n",
    "VIF greater than 10 are evidence of collinearity. No evidence of large colinearity in the predictors but colieanrity may still be reduced."
   ]
  },
  {
   "cell_type": "code",
   "execution_count": 4,
   "metadata": {},
   "outputs": [
    {
     "data": {
      "text/plain": [
       "\n",
       "Call:\n",
       "lm(formula = divorce ~ unemployed + femlab + marriage + birth + \n",
       "    military, data = divusa)\n",
       "\n",
       "Residuals:\n",
       "    Min      1Q  Median      3Q     Max \n",
       "-3.8611 -0.8916 -0.0496  0.8650  3.8300 \n",
       "\n",
       "Coefficients:\n",
       "            Estimate Std. Error t value Pr(>|t|)    \n",
       "(Intercept)  2.48784    3.39378   0.733   0.4659    \n",
       "unemployed  -0.11125    0.05592  -1.989   0.0505 .  \n",
       "femlab       0.38365    0.03059  12.543  < 2e-16 ***\n",
       "marriage     0.11867    0.02441   4.861 6.77e-06 ***\n",
       "birth       -0.12996    0.01560  -8.333 4.03e-12 ***\n",
       "military    -0.02673    0.01425  -1.876   0.0647 .  \n",
       "---\n",
       "Signif. codes:  0 ‘***’ 0.001 ‘**’ 0.01 ‘*’ 0.05 ‘.’ 0.1 ‘ ’ 1\n",
       "\n",
       "Residual standard error: 1.65 on 71 degrees of freedom\n",
       "Multiple R-squared:  0.9208,\tAdjusted R-squared:  0.9152 \n",
       "F-statistic: 165.1 on 5 and 71 DF,  p-value: < 2.2e-16\n"
      ]
     },
     "metadata": {},
     "output_type": "display_data"
    }
   ],
   "source": [
    "summary(lmod)"
   ]
  },
  {
   "cell_type": "markdown",
   "metadata": {},
   "source": [
    "\n"
   ]
  },
  {
   "cell_type": "markdown",
   "metadata": {},
   "source": [
    "#### (b) Does the removal of insignificant predictors from the model reduce the collinearity? Investigate."
   ]
  },
  {
   "cell_type": "code",
   "execution_count": 6,
   "metadata": {},
   "outputs": [
    {
     "data": {
      "text/html": [
       "<dl class=dl-horizontal>\n",
       "\t<dt>femlab</dt>\n",
       "\t\t<dd>1.89339033653308</dd>\n",
       "\t<dt>marriage</dt>\n",
       "\t\t<dd>2.20189116801999</dd>\n",
       "\t<dt>birth</dt>\n",
       "\t\t<dd>2.00846940315787</dd>\n",
       "</dl>\n"
      ],
      "text/latex": [
       "\\begin{description*}\n",
       "\\item[femlab] 1.89339033653308\n",
       "\\item[marriage] 2.20189116801999\n",
       "\\item[birth] 2.00846940315787\n",
       "\\end{description*}\n"
      ],
      "text/markdown": [
       "femlab\n",
       ":   1.89339033653308marriage\n",
       ":   2.20189116801999birth\n",
       ":   2.00846940315787\n",
       "\n"
      ],
      "text/plain": [
       "  femlab marriage    birth \n",
       "1.893390 2.201891 2.008469 "
      ]
     },
     "metadata": {},
     "output_type": "display_data"
    }
   ],
   "source": [
    "lmod1=lm(divorce~femlab+marriage+birth,data=divusa)\n",
    "vif(lmod1)"
   ]
  },
  {
   "cell_type": "markdown",
   "metadata": {},
   "source": [
    "Answer:\n",
    "\n",
    "The removal of insignificant predictors from the model reduce the collinearity because vifs decreased."
   ]
  },
  {
   "cell_type": "markdown",
   "metadata": {},
   "source": [
    "### Problem #2\n"
   ]
  },
  {
   "cell_type": "markdown",
   "metadata": {},
   "source": [
    "Consider the fat dataset, with percentage of body fat, siri, as the response and the other variables, except brozek and density, as potential predictors. \n",
    "\n",
    "#### Remove every tenth observation from the data for use as a test sample. Use the remaining data as a training sample building the following models:\n",
    "\n",
    "1. Linear regression with all mentioned predictors.\n",
    "2. Linear regression with variables selected using AIC.\n",
    "3. Principal component regression.\n",
    "4. Ridge regression.\n",
    "\n",
    "#### Use the models you find to predict the response in the test sample. Make a report on the performance of the models. "
   ]
  },
  {
   "cell_type": "code",
   "execution_count": 3,
   "metadata": {},
   "outputs": [],
   "source": [
    "#1, linear regression with all mentioned predictors\n",
    "data(fat)"
   ]
  },
  {
   "cell_type": "code",
   "execution_count": 4,
   "metadata": {},
   "outputs": [],
   "source": [
    "#function to remove every tenth oversation from the data\n",
    "Nth.delete<-function(dataframe, n)dataframe[-(seq(n,to=nrow(dataframe),by=n)),]"
   ]
  },
  {
   "cell_type": "code",
   "execution_count": 5,
   "metadata": {},
   "outputs": [],
   "source": [
    "Nth<-function(dataframe, n)dataframe[(seq(n,to=nrow(dataframe),by=n)),]"
   ]
  },
  {
   "cell_type": "code",
   "execution_count": 6,
   "metadata": {},
   "outputs": [],
   "source": [
    "#remaining data as training sample\n",
    "train<-Nth.delete(fat,10)\n",
    "train<-subset(train, select = -c(1,3))"
   ]
  },
  {
   "cell_type": "code",
   "execution_count": 7,
   "metadata": {},
   "outputs": [],
   "source": [
    "#removed every tenth observation as test sample\n",
    "test<-Nth(fat,10)\n",
    "test<-subset(test, select = -c(1,3) )"
   ]
  },
  {
   "cell_type": "code",
   "execution_count": 8,
   "metadata": {},
   "outputs": [
    {
     "data": {
      "text/plain": [
       "\n",
       "Call:\n",
       "lm(formula = siri ~ ., data = train)\n",
       "\n",
       "Residuals:\n",
       "    Min      1Q  Median      3Q     Max \n",
       "-5.8314 -0.6722  0.1828  0.9150  6.6619 \n",
       "\n",
       "Coefficients:\n",
       "              Estimate Std. Error t value Pr(>|t|)    \n",
       "(Intercept) -12.591885   6.448868  -1.953 0.052193 .  \n",
       "age           0.007978   0.012320   0.648 0.517983    \n",
       "weight        0.362999   0.023314  15.570  < 2e-16 ***\n",
       "height        0.049026   0.040315   1.216 0.225315    \n",
       "adipos       -0.514032   0.114074  -4.506 1.09e-05 ***\n",
       "free         -0.564773   0.014889 -37.933  < 2e-16 ***\n",
       "neck          0.016525   0.089863   0.184 0.854272    \n",
       "chest         0.120219   0.039590   3.037 0.002694 ** \n",
       "abdom         0.140108   0.042186   3.321 0.001056 ** \n",
       "hip           0.006197   0.056101   0.110 0.912148    \n",
       "thigh         0.195057   0.054460   3.582 0.000424 ***\n",
       "knee          0.106637   0.093534   1.140 0.255542    \n",
       "ankle         0.125118   0.081303   1.539 0.125325    \n",
       "biceps        0.096199   0.064656   1.488 0.138278    \n",
       "forearm       0.230775   0.073332   3.147 0.001888 ** \n",
       "wrist         0.139279   0.206804   0.673 0.501378    \n",
       "---\n",
       "Signif. codes:  0 ‘***’ 0.001 ‘**’ 0.01 ‘*’ 0.05 ‘.’ 0.1 ‘ ’ 1\n",
       "\n",
       "Residual standard error: 1.55 on 211 degrees of freedom\n",
       "Multiple R-squared:  0.9692,\tAdjusted R-squared:  0.967 \n",
       "F-statistic: 442.5 on 15 and 211 DF,  p-value: < 2.2e-16\n"
      ]
     },
     "metadata": {},
     "output_type": "display_data"
    }
   ],
   "source": [
    "#fit mentioned predictios\n",
    "lmod2=lm(siri~.,data=train)\n",
    "summary(lmod2)"
   ]
  },
  {
   "cell_type": "code",
   "execution_count": 9,
   "metadata": {},
   "outputs": [
    {
     "name": "stderr",
     "output_type": "stream",
     "text": [
      "Warning message in n * log(rs$rss/n) + 2 * (2:16):\n",
      "“longer object length is not a multiple of shorter object length”"
     ]
    },
    {
     "data": {
      "text/plain": [
       "Subset selection object\n",
       "Call: regsubsets.formula(siri ~ ., data = train)\n",
       "15 Variables  (and intercept)\n",
       "        Forced in Forced out\n",
       "age         FALSE      FALSE\n",
       "weight      FALSE      FALSE\n",
       "height      FALSE      FALSE\n",
       "adipos      FALSE      FALSE\n",
       "free        FALSE      FALSE\n",
       "neck        FALSE      FALSE\n",
       "chest       FALSE      FALSE\n",
       "abdom       FALSE      FALSE\n",
       "hip         FALSE      FALSE\n",
       "thigh       FALSE      FALSE\n",
       "knee        FALSE      FALSE\n",
       "ankle       FALSE      FALSE\n",
       "biceps      FALSE      FALSE\n",
       "forearm     FALSE      FALSE\n",
       "wrist       FALSE      FALSE\n",
       "1 subsets of each size up to 8\n",
       "Selection Algorithm: exhaustive\n",
       "         age weight height adipos free neck chest abdom hip thigh knee ankle\n",
       "1  ( 1 ) \" \" \" \"    \" \"    \" \"    \" \"  \" \"  \" \"   \"*\"   \" \" \" \"   \" \"  \" \"  \n",
       "2  ( 1 ) \" \" \"*\"    \" \"    \" \"    \"*\"  \" \"  \" \"   \" \"   \" \" \" \"   \" \"  \" \"  \n",
       "3  ( 1 ) \" \" \"*\"    \" \"    \" \"    \"*\"  \" \"  \" \"   \" \"   \" \" \" \"   \" \"  \" \"  \n",
       "4  ( 1 ) \" \" \"*\"    \" \"    \" \"    \"*\"  \" \"  \" \"   \" \"   \" \" \" \"   \"*\"  \" \"  \n",
       "5  ( 1 ) \" \" \"*\"    \" \"    \"*\"    \"*\"  \" \"  \" \"   \"*\"   \" \" \" \"   \" \"  \" \"  \n",
       "6  ( 1 ) \" \" \"*\"    \" \"    \"*\"    \"*\"  \" \"  \" \"   \"*\"   \" \" \"*\"   \" \"  \" \"  \n",
       "7  ( 1 ) \" \" \"*\"    \" \"    \"*\"    \"*\"  \" \"  \"*\"   \"*\"   \" \" \"*\"   \" \"  \" \"  \n",
       "8  ( 1 ) \" \" \"*\"    \" \"    \"*\"    \"*\"  \" \"  \"*\"   \"*\"   \" \" \"*\"   \" \"  \"*\"  \n",
       "         biceps forearm wrist\n",
       "1  ( 1 ) \" \"    \" \"     \" \"  \n",
       "2  ( 1 ) \" \"    \" \"     \" \"  \n",
       "3  ( 1 ) \" \"    \"*\"     \" \"  \n",
       "4  ( 1 ) \" \"    \"*\"     \" \"  \n",
       "5  ( 1 ) \" \"    \"*\"     \" \"  \n",
       "6  ( 1 ) \" \"    \"*\"     \" \"  \n",
       "7  ( 1 ) \" \"    \"*\"     \" \"  \n",
       "8  ( 1 ) \" \"    \"*\"     \" \"  "
      ]
     },
     "metadata": {},
     "output_type": "display_data"
    },
    {
     "data": {
      "image/png": "[encoded data removed]",
      "text/plain": [
       "plot without title"
      ]
     },
     "metadata": {},
     "output_type": "display_data"
    }
   ],
   "source": [
    "##2, Linear regression with variables selected using AIC.\n",
    "n = length(train$siri)\n",
    "b = regsubsets(siri ~., data = train)\n",
    "rs = summary(b); aic = n*log(rs$rss/n) + 2*(2:16); i = which.min(aic)\n",
    "plot(aic ~ I(1:15), ylab = \"AIC\", xlab = \"Number of Predictors\", \n",
    "     type = \"o\")\n",
    "\n",
    "aic = train[,rs$which[i,2]];\n",
    "\n",
    "rs"
   ]
  },
  {
   "cell_type": "code",
   "execution_count": 10,
   "metadata": {},
   "outputs": [
    {
     "data": {
      "text/plain": [
       "\n",
       "Call:\n",
       "lm(formula = siri ~ weight + adipos + free + chest + abdom + \n",
       "    chest + ankle + forearm, data = train)\n",
       "\n",
       "Residuals:\n",
       "    Min      1Q  Median      3Q     Max \n",
       "-7.0444 -0.6219  0.1988  0.9227  7.4828 \n",
       "\n",
       "Coefficients:\n",
       "            Estimate Std. Error t value Pr(>|t|)    \n",
       "(Intercept)  4.61511    3.15409   1.463 0.144842    \n",
       "weight       0.41293    0.01878  21.992  < 2e-16 ***\n",
       "adipos      -0.42855    0.08938  -4.795 3.01e-06 ***\n",
       "free        -0.56155    0.01469 -38.230  < 2e-16 ***\n",
       "chest        0.06338    0.03708   1.709 0.088841 .  \n",
       "abdom        0.14720    0.04032   3.650 0.000327 ***\n",
       "ankle        0.14601    0.08074   1.808 0.071926 .  \n",
       "forearm      0.30790    0.06909   4.457 1.33e-05 ***\n",
       "---\n",
       "Signif. codes:  0 ‘***’ 0.001 ‘**’ 0.01 ‘*’ 0.05 ‘.’ 0.1 ‘ ’ 1\n",
       "\n",
       "Residual standard error: 1.621 on 219 degrees of freedom\n",
       "Multiple R-squared:  0.965,\tAdjusted R-squared:  0.9639 \n",
       "F-statistic: 863.1 on 7 and 219 DF,  p-value: < 2.2e-16\n"
      ]
     },
     "metadata": {},
     "output_type": "display_data"
    }
   ],
   "source": [
    "lmod_3_aic=lm(siri~weight+adipos+free+chest+abdom+chest+ankle+forearm,data=train)\n",
    "summary(lmod_3_aic)"
   ]
  },
  {
   "cell_type": "code",
   "execution_count": 11,
   "metadata": {},
   "outputs": [
    {
     "data": {
      "text/plain": [
       "Importance of components:\n",
       "                         PC1    PC2     PC3     PC4     PC5     PC6     PC7\n",
       "Standard deviation     3.072 1.2415 1.04228 0.82869 0.77340 0.60565 0.57145\n",
       "Proportion of Variance 0.629 0.1028 0.07242 0.04578 0.03988 0.02445 0.02177\n",
       "Cumulative Proportion  0.629 0.7317 0.80414 0.84992 0.88980 0.91425 0.93602\n",
       "                           PC8     PC9    PC10    PC11   PC12    PC13    PC14\n",
       "Standard deviation     0.52205 0.44467 0.42667 0.35774 0.2765 0.21504 0.19703\n",
       "Proportion of Variance 0.01817 0.01318 0.01214 0.00853 0.0051 0.00308 0.00259\n",
       "Cumulative Proportion  0.95419 0.96738 0.97951 0.98804 0.9931 0.99622 0.99881\n",
       "                          PC15\n",
       "Standard deviation     0.13350\n",
       "Proportion of Variance 0.00119\n",
       "Cumulative Proportion  1.00000"
      ]
     },
     "metadata": {},
     "output_type": "display_data"
    },
    {
     "data": {
      "image/png": "[encoded data removed]",
      "text/plain": [
       "plot without title"
      ]
     },
     "metadata": {},
     "output_type": "display_data"
    }
   ],
   "source": [
    "#principle conponent regression\n",
    "s = prcomp(train[,-1], scale = T)\n",
    "summary(s)\n",
    "plot(s$sdev, type = \"o\")"
   ]
  },
  {
   "cell_type": "code",
   "execution_count": 14,
   "metadata": {},
   "outputs": [
    {
     "data": {
      "text/plain": [
       "\n",
       "Call:\n",
       "lm(formula = siri ~ ., data = PCR)\n",
       "\n",
       "Residuals:\n",
       "    Min      1Q  Median      3Q     Max \n",
       "-6.7344 -1.5599  0.1436  1.6026 13.7149 \n",
       "\n",
       "Coefficients:\n",
       "            Estimate Std. Error t value Pr(>|t|)    \n",
       "(Intercept) 19.18018    0.16528 116.044  < 2e-16 ***\n",
       "PC1          1.68153    0.05393  31.180  < 2e-16 ***\n",
       "PC2         -3.47334    0.13343 -26.032  < 2e-16 ***\n",
       "PC3         -0.99594    0.15893  -6.267 1.97e-09 ***\n",
       "PC4          0.20279    0.19989   1.015    0.311    \n",
       "PC5          1.51306    0.21418   7.064 2.19e-11 ***\n",
       "PC6          5.82591    0.27351  21.301  < 2e-16 ***\n",
       "PC7          1.74098    0.28988   6.006 7.97e-09 ***\n",
       "PC8          0.10819    0.31730   0.341    0.733    \n",
       "PC9          5.06389    0.37252  13.593  < 2e-16 ***\n",
       "PC10        -1.82909    0.38824  -4.711 4.41e-06 ***\n",
       "---\n",
       "Signif. codes:  0 ‘***’ 0.001 ‘**’ 0.01 ‘*’ 0.05 ‘.’ 0.1 ‘ ’ 1\n",
       "\n",
       "Residual standard error: 2.49 on 216 degrees of freedom\n",
       "Multiple R-squared:  0.9186,\tAdjusted R-squared:  0.9148 \n",
       "F-statistic: 243.7 on 10 and 216 DF,  p-value: < 2.2e-16\n"
      ]
     },
     "metadata": {},
     "output_type": "display_data"
    },
    {
     "data": {
      "text/plain": [
       "Standard deviations (1, .., p=15):\n",
       " [1] 3.0715530 1.2415034 1.0422823 0.8286901 0.7733985 0.6056492 0.5714494\n",
       " [8] 0.5220524 0.4446668 0.4266684 0.3577370 0.2765218 0.2150414 0.1970330\n",
       "[15] 0.1335037\n",
       "\n",
       "Rotation (n x k) = (15 x 15):\n",
       "               PC1          PC2          PC3         PC4         PC5\n",
       "age     0.01169678 -0.588998912  0.609188656  0.07211022 -0.05480112\n",
       "weight  0.31933290  0.009836913 -0.028851519  0.07204778  0.13819519\n",
       "height  0.08951198  0.535079098  0.507201547  0.04746737  0.48587864\n",
       "adipos  0.29508307 -0.242189077 -0.170175950  0.01350687  0.04848739\n",
       "free    0.25633987  0.349826363  0.080043949  0.04832617  0.02044600\n",
       "neck    0.28172935 -0.056549415  0.154272847 -0.19737598  0.04492516\n",
       "chest   0.29356173 -0.199784797  0.013470506 -0.02955190  0.14766639\n",
       "abdom   0.28909618 -0.272990764 -0.039638386  0.08725232  0.22119997\n",
       "hip     0.30258866 -0.053382999 -0.192477400  0.15890630  0.14986646\n",
       "thigh   0.28546523  0.037805767 -0.328714546  0.06987704  0.08870801\n",
       "knee    0.28247541  0.036281832  0.003717741  0.23828571  0.01203604\n",
       "ankle   0.21017425  0.207802265  0.059503006  0.52424525 -0.66142988\n",
       "biceps  0.27389236  0.028323715 -0.065759442 -0.31683974 -0.05682231\n",
       "forearm 0.22291317  0.134416893  0.023259316 -0.68812045 -0.36104098\n",
       "wrist   0.25737804  0.018888537  0.395427838 -0.04183680 -0.25447193\n",
       "                  PC6         PC7          PC8          PC9        PC10\n",
       "age      0.1273526432 -0.24659441  0.109899730 -0.158759332  0.17477095\n",
       "weight  -0.0005330813  0.04224553 -0.052664773 -0.122874292 -0.01734286\n",
       "height   0.3587324458  0.13718143  0.073700238  0.126895165 -0.05237035\n",
       "adipos  -0.0014662466  0.23418216 -0.018451072 -0.027684412 -0.10323225\n",
       "free    -0.4923552698 -0.14811096 -0.073730715 -0.602364561  0.15416549\n",
       "neck    -0.3665575996  0.30564137  0.003808585  0.413904497  0.64721941\n",
       "chest    0.0824807422  0.31979937 -0.087778179 -0.374580072 -0.09417003\n",
       "abdom    0.2008979735  0.19298938 -0.105019439  0.062939912 -0.13370631\n",
       "hip      0.0165678349 -0.09306440 -0.103160087 -0.005477196 -0.14204259\n",
       "thigh    0.0271102205 -0.25190057  0.072431052  0.366734925  0.03183439\n",
       "knee     0.1865143275 -0.64007801 -0.183254405  0.074586100  0.23529118\n",
       "ankle    0.2515897221  0.31000695  0.132173321 -0.002740432  0.11822438\n",
       "biceps   0.0604201137 -0.14105226  0.858246990 -0.088223885 -0.08772718\n",
       "forearm  0.3909935633 -0.05690924 -0.372609647 -0.078114348  0.04329065\n",
       "wrist   -0.4189602033 -0.08844767 -0.113249370  0.332289792 -0.62149083\n",
       "               PC11         PC12         PC13         PC14         PC15\n",
       "age     -0.34433193  0.085226375 -0.024779067 -0.034921845 -0.033364539\n",
       "weight  -0.03631281 -0.155042135  0.129746572  0.116115172 -0.892847986\n",
       "height  -0.08786672  0.046225777 -0.154394095 -0.041536296  0.053746582\n",
       "adipos  -0.04793787  0.005861578 -0.858247226  0.128348642  0.027853897\n",
       "free    -0.21336796  0.058960442 -0.007548638  0.234727851  0.205420745\n",
       "neck     0.09108705 -0.106952654  0.054767606 -0.101256674  0.040760664\n",
       "chest    0.38175432  0.471331439  0.197025017 -0.415882094  0.073641116\n",
       "abdom    0.02692482 -0.189755230  0.368758989  0.631220181  0.319623151\n",
       "hip     -0.35728642 -0.523828891  0.099401522 -0.573545401  0.200406544\n",
       "thigh   -0.42901485  0.629003767  0.104545699  0.025245648 -0.008091897\n",
       "knee     0.54469483 -0.060280940 -0.138878097  0.008454445  0.057210051\n",
       "ankle   -0.05708344  0.006417961  0.043188408 -0.005439050  0.027042454\n",
       "biceps   0.13976010 -0.130603248  0.041689269  0.009964474  0.046894889\n",
       "forearm -0.15371852 -0.029028774  0.003302714  0.016897795  0.011977990\n",
       "wrist    0.12244871  0.042829181  0.023573977 -0.016571826 -0.005339554"
      ]
     },
     "metadata": {},
     "output_type": "display_data"
    }
   ],
   "source": [
    "#fit model using first 10 pcs\n",
    "#using the first 10 pcs is good enough in terms of proportion of variance explained\n",
    "PCR=data.frame(siri=train$siri,s$x[,1:10]);\n",
    "lmodPCR=lm(siri~.,PCR)\n",
    "summary(lmodPCR)\n",
    "s"
   ]
  },
  {
   "cell_type": "code",
   "execution_count": 29,
   "metadata": {},
   "outputs": [],
   "source": [
    "m=colMeans(train[,-1])\n",
    "sdeviation=apply(train[,-1],2,sd)\n",
    "testP=test[,-1]\n",
    "testPredictors=matrix(NA,nrow=dim(testP)[1],ncol=dim(testP)[2])"
   ]
  },
  {
   "cell_type": "code",
   "execution_count": 30,
   "metadata": {},
   "outputs": [],
   "source": [
    "for(i in 1:length(testP)){\n",
    "    testPredictors[,i]=(testP[,i]-m[i])/sdeviation[i]\n",
    "}"
   ]
  },
  {
   "cell_type": "code",
   "execution_count": 31,
   "metadata": {},
   "outputs": [
    {
     "data": {
      "text/html": [
       "3.14487482592134"
      ],
      "text/latex": [
       "3.14487482592134"
      ],
      "text/markdown": [
       "3.14487482592134"
      ],
      "text/plain": [
       "[1] 3.144875"
      ]
     },
     "metadata": {},
     "output_type": "display_data"
    }
   ],
   "source": [
    "#calculate mse\n",
    "V=s$rotation\n",
    "Ctest=testPredictors%*%V[,1:10]\n",
    "prePCR=cbind(1,Ctest)%*%lmodPCR$coef\n",
    "\n",
    "msePCR=mean((test$siri-prePCR)^2)\n",
    "msePCR"
   ]
  },
  {
   "cell_type": "code",
   "execution_count": 32,
   "metadata": {},
   "outputs": [],
   "source": [
    "#ridge regression\n",
    "par(mfrow=c(1,1))\n",
    "trainRidge=data.frame(siri=train$siri-mean(train$siri),scale(train[,-1]))\n",
    "testRidge=data.frame(siri=test$siri-mean(test$siri),scale(test[,-1]))"
   ]
  },
  {
   "cell_type": "code",
   "execution_count": 44,
   "metadata": {},
   "outputs": [
    {
     "name": "stdout",
     "output_type": "stream",
     "text": [
      "modified HKB estimator is 0.1340921 \n",
      "modified L-W estimator is 0.4446052 \n",
      "smallest value of GCV  at 0.0467 \n"
     ]
    },
    {
     "data": {
      "image/png": "[encoded data removed]",
      "text/plain": [
       "plot without title"
      ]
     },
     "metadata": {},
     "output_type": "display_data"
    }
   ],
   "source": [
    "lmodRidge=lm.ridge(siri ~.,data=trainRidge,lambda=seq(0,1,1e-4))\n",
    "matplot(lmodRidge$lambda,t(lmodRidge$coef),\n",
    "    type=\"l\",lty=1,xlab=expression(lambda),ylab=expression(hat(beta)))\n",
    "select(lmodRidge)\n",
    "lmodRidge=lm.ridge(siri~.,data=trainRidge,lambda=0.0467)\n",
    "\n",
    "abline(v=0.0467)"
   ]
  },
  {
   "cell_type": "code",
   "execution_count": 49,
   "metadata": {},
   "outputs": [
    {
     "data": {
      "text/html": [
       "2.23384812878834"
      ],
      "text/latex": [
       "2.23384812878834"
      ],
      "text/markdown": [
       "2.23384812878834"
      ],
      "text/plain": [
       "[1] 2.233848"
      ]
     },
     "metadata": {},
     "output_type": "display_data"
    }
   ],
   "source": [
    "yhat=as.matrix(trainRidge[,-1])%*%lmodRidge$coef + mean(train$siri)\n",
    "mean((yhat-train$siri)^2)"
   ]
  },
  {
   "cell_type": "code",
   "execution_count": 50,
   "metadata": {},
   "outputs": [],
   "source": [
    "predicted=as.matrix(testRidge[,-1])%*%lmodRidge$coef+mean(train$siri)"
   ]
  },
  {
   "cell_type": "code",
   "execution_count": 51,
   "metadata": {},
   "outputs": [
    {
     "data": {
      "text/html": [
       "1.89925327561557"
      ],
      "text/latex": [
       "1.89925327561557"
      ],
      "text/markdown": [
       "1.89925327561557"
      ],
      "text/plain": [
       "[1] 1.899253"
      ]
     },
     "metadata": {},
     "output_type": "display_data"
    }
   ],
   "source": [
    "sqrt(mean((predicted-test$siri)^2))"
   ]
  },
  {
   "cell_type": "markdown",
   "metadata": {},
   "source": [
    "Answer:\n",
    "\n",
    "PCR is not a good idea for this data. I think AIC is the best model."
   ]
  },
  {
   "cell_type": "markdown",
   "metadata": {},
   "source": [
    "### Problem #3\n",
    "\n",
    "Use the peatpos data with hipcenter as the response.\n",
    "\n",
    "#### (a) Fit a model with all eight predictors. Comment on the effect of leg length on the response. "
   ]
  },
  {
   "cell_type": "code",
   "execution_count": 14,
   "metadata": {},
   "outputs": [],
   "source": [
    "data(seatpos)"
   ]
  },
  {
   "cell_type": "code",
   "execution_count": 15,
   "metadata": {},
   "outputs": [],
   "source": [
    "lmod_3=lm(hipcenter~., data=seatpos)"
   ]
  },
  {
   "cell_type": "code",
   "execution_count": 16,
   "metadata": {},
   "outputs": [
    {
     "data": {
      "text/plain": [
       "\n",
       "Call:\n",
       "lm(formula = hipcenter ~ ., data = seatpos)\n",
       "\n",
       "Residuals:\n",
       "    Min      1Q  Median      3Q     Max \n",
       "-73.827 -22.833  -3.678  25.017  62.337 \n",
       "\n",
       "Coefficients:\n",
       "             Estimate Std. Error t value Pr(>|t|)  \n",
       "(Intercept) 436.43213  166.57162   2.620   0.0138 *\n",
       "Age           0.77572    0.57033   1.360   0.1843  \n",
       "Weight        0.02631    0.33097   0.080   0.9372  \n",
       "HtShoes      -2.69241    9.75304  -0.276   0.7845  \n",
       "Ht            0.60134   10.12987   0.059   0.9531  \n",
       "Seated        0.53375    3.76189   0.142   0.8882  \n",
       "Arm          -1.32807    3.90020  -0.341   0.7359  \n",
       "Thigh        -1.14312    2.66002  -0.430   0.6706  \n",
       "Leg          -6.43905    4.71386  -1.366   0.1824  \n",
       "---\n",
       "Signif. codes:  0 ‘***’ 0.001 ‘**’ 0.01 ‘*’ 0.05 ‘.’ 0.1 ‘ ’ 1\n",
       "\n",
       "Residual standard error: 37.72 on 29 degrees of freedom\n",
       "Multiple R-squared:  0.6866,\tAdjusted R-squared:  0.6001 \n",
       "F-statistic:  7.94 on 8 and 29 DF,  p-value: 1.306e-05\n"
      ]
     },
     "metadata": {},
     "output_type": "display_data"
    }
   ],
   "source": [
    "summary(lmod_3)"
   ]
  },
  {
   "cell_type": "markdown",
   "metadata": {},
   "source": [
    "Answer:\n",
    "The estimated coefficient is -6.43905. However, the p value is not significant, so we shouldn't conclude too much from it. "
   ]
  },
  {
   "cell_type": "markdown",
   "metadata": {},
   "source": [
    "#### (b) Compute a 95% prediction interval for the response at the mean value of the predictors. "
   ]
  },
  {
   "cell_type": "code",
   "execution_count": 49,
   "metadata": {},
   "outputs": [],
   "source": [
    "m=data.frame(Age=35.26,Weight=155.6)"
   ]
  },
  {
   "cell_type": "code",
   "execution_count": 17,
   "metadata": {},
   "outputs": [
    {
     "data": {
      "text/html": [
       "<table>\n",
       "<thead><tr><th></th><th scope=col>colMeans.seatpos.</th></tr></thead>\n",
       "<tbody>\n",
       "\t<tr><th scope=row>Age</th><td>  35.26316</td></tr>\n",
       "\t<tr><th scope=row>Weight</th><td> 155.63158</td></tr>\n",
       "\t<tr><th scope=row>HtShoes</th><td> 171.38947</td></tr>\n",
       "\t<tr><th scope=row>Ht</th><td> 169.08421</td></tr>\n",
       "\t<tr><th scope=row>Seated</th><td>  88.95263</td></tr>\n",
       "\t<tr><th scope=row>Arm</th><td>  32.21579</td></tr>\n",
       "\t<tr><th scope=row>Thigh</th><td>  38.65526</td></tr>\n",
       "\t<tr><th scope=row>Leg</th><td>  36.26316</td></tr>\n",
       "\t<tr><th scope=row>hipcenter</th><td>-164.88487</td></tr>\n",
       "</tbody>\n",
       "</table>\n"
      ],
      "text/latex": [
       "\\begin{tabular}{r|l}\n",
       "  & colMeans.seatpos.\\\\\n",
       "\\hline\n",
       "\tAge &   35.26316\\\\\n",
       "\tWeight &  155.63158\\\\\n",
       "\tHtShoes &  171.38947\\\\\n",
       "\tHt &  169.08421\\\\\n",
       "\tSeated &   88.95263\\\\\n",
       "\tArm &   32.21579\\\\\n",
       "\tThigh &   38.65526\\\\\n",
       "\tLeg &   36.26316\\\\\n",
       "\thipcenter & -164.88487\\\\\n",
       "\\end{tabular}\n"
      ],
      "text/markdown": [
       "\n",
       "| <!--/--> | colMeans.seatpos. |\n",
       "|---|---|\n",
       "| Age |   35.26316 |\n",
       "| Weight |  155.63158 |\n",
       "| HtShoes |  171.38947 |\n",
       "| Ht |  169.08421 |\n",
       "| Seated |   88.95263 |\n",
       "| Arm |   32.21579 |\n",
       "| Thigh |   38.65526 |\n",
       "| Leg |   36.26316 |\n",
       "| hipcenter | -164.88487 |\n",
       "\n"
      ],
      "text/plain": [
       "          colMeans.seatpos.\n",
       "Age         35.26316       \n",
       "Weight     155.63158       \n",
       "HtShoes    171.38947       \n",
       "Ht         169.08421       \n",
       "Seated      88.95263       \n",
       "Arm         32.21579       \n",
       "Thigh       38.65526       \n",
       "Leg         36.26316       \n",
       "hipcenter -164.88487       "
      ]
     },
     "metadata": {},
     "output_type": "display_data"
    },
    {
     "data": {
      "text/html": [
       "<dl class=dl-horizontal>\n",
       "\t<dt>Age</dt>\n",
       "\t\t<dd>35.2631578947368</dd>\n",
       "\t<dt>Weight</dt>\n",
       "\t\t<dd>155.631578947368</dd>\n",
       "\t<dt>HtShoes</dt>\n",
       "\t\t<dd>171.389473684211</dd>\n",
       "\t<dt>Ht</dt>\n",
       "\t\t<dd>169.084210526316</dd>\n",
       "\t<dt>Seated</dt>\n",
       "\t\t<dd>88.9526315789474</dd>\n",
       "\t<dt>Arm</dt>\n",
       "\t\t<dd>32.2157894736842</dd>\n",
       "\t<dt>Thigh</dt>\n",
       "\t\t<dd>38.6552631578947</dd>\n",
       "\t<dt>Leg</dt>\n",
       "\t\t<dd>36.2631578947368</dd>\n",
       "</dl>\n"
      ],
      "text/latex": [
       "\\begin{description*}\n",
       "\\item[Age] 35.2631578947368\n",
       "\\item[Weight] 155.631578947368\n",
       "\\item[HtShoes] 171.389473684211\n",
       "\\item[Ht] 169.084210526316\n",
       "\\item[Seated] 88.9526315789474\n",
       "\\item[Arm] 32.2157894736842\n",
       "\\item[Thigh] 38.6552631578947\n",
       "\\item[Leg] 36.2631578947368\n",
       "\\end{description*}\n"
      ],
      "text/markdown": [
       "Age\n",
       ":   35.2631578947368Weight\n",
       ":   155.631578947368HtShoes\n",
       ":   171.389473684211Ht\n",
       ":   169.084210526316Seated\n",
       ":   88.9526315789474Arm\n",
       ":   32.2157894736842Thigh\n",
       ":   38.6552631578947Leg\n",
       ":   36.2631578947368\n",
       "\n"
      ],
      "text/plain": [
       "      Age    Weight   HtShoes        Ht    Seated       Arm     Thigh       Leg \n",
       " 35.26316 155.63158 171.38947 169.08421  88.95263  32.21579  38.65526  36.26316 "
      ]
     },
     "metadata": {},
     "output_type": "display_data"
    }
   ],
   "source": [
    "data.frame(colMeans(seatpos))\n",
    "\n",
    "m = colMeans(model.matrix(lmod_3)[,-1]); m; newdata = data.frame(t(m));"
   ]
  },
  {
   "cell_type": "code",
   "execution_count": 20,
   "metadata": {},
   "outputs": [
    {
     "data": {
      "text/html": [
       "<table>\n",
       "<thead><tr><th scope=col>fit</th><th scope=col>lwr</th><th scope=col>upr</th></tr></thead>\n",
       "<tbody>\n",
       "\t<tr><td>-164.8849</td><td>-243.04  </td><td>-86.72972</td></tr>\n",
       "</tbody>\n",
       "</table>\n"
      ],
      "text/latex": [
       "\\begin{tabular}{r|lll}\n",
       " fit & lwr & upr\\\\\n",
       "\\hline\n",
       "\t -164.8849 & -243.04   & -86.72972\\\\\n",
       "\\end{tabular}\n"
      ],
      "text/markdown": [
       "\n",
       "| fit | lwr | upr |\n",
       "|---|---|---|\n",
       "| -164.8849 | -243.04   | -86.72972 |\n",
       "\n"
      ],
      "text/plain": [
       "  fit       lwr     upr      \n",
       "1 -164.8849 -243.04 -86.72972"
      ]
     },
     "metadata": {},
     "output_type": "display_data"
    }
   ],
   "source": [
    "predict(lmod_3, newdata = newdata, interval = \"predict\")"
   ]
  },
  {
   "cell_type": "markdown",
   "metadata": {},
   "source": [
    "#### (c) Use AIC to select a model. Now interpret the effect of leg length and compute the prediction interval. Compare the conclusions from the two models. "
   ]
  },
  {
   "cell_type": "code",
   "execution_count": 21,
   "metadata": {},
   "outputs": [
    {
     "data": {
      "text/plain": [
       "Subset selection object\n",
       "Call: regsubsets.formula(hipcenter ~ ., data = seatpos)\n",
       "8 Variables  (and intercept)\n",
       "        Forced in Forced out\n",
       "Age         FALSE      FALSE\n",
       "Weight      FALSE      FALSE\n",
       "HtShoes     FALSE      FALSE\n",
       "Ht          FALSE      FALSE\n",
       "Seated      FALSE      FALSE\n",
       "Arm         FALSE      FALSE\n",
       "Thigh       FALSE      FALSE\n",
       "Leg         FALSE      FALSE\n",
       "1 subsets of each size up to 8\n",
       "Selection Algorithm: exhaustive\n",
       "         Age Weight HtShoes Ht  Seated Arm Thigh Leg\n",
       "1  ( 1 ) \" \" \" \"    \" \"     \"*\" \" \"    \" \" \" \"   \" \"\n",
       "2  ( 1 ) \" \" \" \"    \" \"     \"*\" \" \"    \" \" \" \"   \"*\"\n",
       "3  ( 1 ) \"*\" \" \"    \" \"     \"*\" \" \"    \" \" \" \"   \"*\"\n",
       "4  ( 1 ) \"*\" \" \"    \"*\"     \" \" \" \"    \" \" \"*\"   \"*\"\n",
       "5  ( 1 ) \"*\" \" \"    \"*\"     \" \" \" \"    \"*\" \"*\"   \"*\"\n",
       "6  ( 1 ) \"*\" \" \"    \"*\"     \" \" \"*\"    \"*\" \"*\"   \"*\"\n",
       "7  ( 1 ) \"*\" \"*\"    \"*\"     \" \" \"*\"    \"*\" \"*\"   \"*\"\n",
       "8  ( 1 ) \"*\" \"*\"    \"*\"     \"*\" \"*\"    \"*\" \"*\"   \"*\""
      ]
     },
     "metadata": {},
     "output_type": "display_data"
    },
    {
     "data": {
      "text/plain": [
       "\n",
       "Call:\n",
       "lm(formula = hipcenter ~ Age + Ht + Leg, data = seatpos)\n",
       "\n",
       "Residuals:\n",
       "    Min      1Q  Median      3Q     Max \n",
       "-79.715 -22.758  -4.102  21.394  60.576 \n",
       "\n",
       "Coefficients:\n",
       "            Estimate Std. Error t value Pr(>|t|)    \n",
       "(Intercept) 452.1976   100.9482   4.480 8.04e-05 ***\n",
       "Age           0.5807     0.3790   1.532   0.1347    \n",
       "Ht           -2.3254     1.2545  -1.854   0.0725 .  \n",
       "Leg          -6.7390     4.1050  -1.642   0.1099    \n",
       "---\n",
       "Signif. codes:  0 ‘***’ 0.001 ‘**’ 0.01 ‘*’ 0.05 ‘.’ 0.1 ‘ ’ 1\n",
       "\n",
       "Residual standard error: 35.12 on 34 degrees of freedom\n",
       "Multiple R-squared:  0.6814,\tAdjusted R-squared:  0.6533 \n",
       "F-statistic: 24.24 on 3 and 34 DF,  p-value: 1.426e-08\n"
      ]
     },
     "metadata": {},
     "output_type": "display_data"
    },
    {
     "data": {
      "image/png": "[encoded data removed]",
      "text/plain": [
       "plot without title"
      ]
     },
     "metadata": {},
     "output_type": "display_data"
    }
   ],
   "source": [
    "##2, Linear regression with variables selected using AIC.\n",
    "n1 = length(seatpos$hipcenter)\n",
    "b1 = regsubsets(hipcenter ~ ., data = seatpos)\n",
    "rs1 = summary(b1); aic = n1*log(rs1$rss/n1) + 2*(2:9); i = which.min(aic)\n",
    "plot(aic ~ I(1:8), ylab = \"AIC\", xlab = \"Number of Predictors\", \n",
    "     type = \"o\")\n",
    "\n",
    "aic = seatpos[,rs1$which[i,2]];\n",
    "\n",
    "rs1\n",
    "\n",
    "lmod_3_aic<-lm(hipcenter~Age+Ht+Leg, data=seatpos)\n",
    "summary(lmod_3_aic)"
   ]
  },
  {
   "cell_type": "code",
   "execution_count": 28,
   "metadata": {},
   "outputs": [
    {
     "data": {
      "text/html": [
       "<dl class=dl-horizontal>\n",
       "\t<dt>Age</dt>\n",
       "\t\t<dd>35.2631578947368</dd>\n",
       "\t<dt>Ht</dt>\n",
       "\t\t<dd>169.084210526316</dd>\n",
       "\t<dt>Leg</dt>\n",
       "\t\t<dd>36.2631578947368</dd>\n",
       "</dl>\n"
      ],
      "text/latex": [
       "\\begin{description*}\n",
       "\\item[Age] 35.2631578947368\n",
       "\\item[Ht] 169.084210526316\n",
       "\\item[Leg] 36.2631578947368\n",
       "\\end{description*}\n"
      ],
      "text/markdown": [
       "Age\n",
       ":   35.2631578947368Ht\n",
       ":   169.084210526316Leg\n",
       ":   36.2631578947368\n",
       "\n"
      ],
      "text/plain": [
       "      Age        Ht       Leg \n",
       " 35.26316 169.08421  36.26316 "
      ]
     },
     "metadata": {},
     "output_type": "display_data"
    },
    {
     "data": {
      "text/html": [
       "<table>\n",
       "<thead><tr><th scope=col>fit</th><th scope=col>lwr</th><th scope=col>upr</th></tr></thead>\n",
       "<tbody>\n",
       "\t<tr><td>-164.8849</td><td>-237.192 </td><td>-92.57771</td></tr>\n",
       "</tbody>\n",
       "</table>\n"
      ],
      "text/latex": [
       "\\begin{tabular}{r|lll}\n",
       " fit & lwr & upr\\\\\n",
       "\\hline\n",
       "\t -164.8849 & -237.192  & -92.57771\\\\\n",
       "\\end{tabular}\n"
      ],
      "text/markdown": [
       "\n",
       "| fit | lwr | upr |\n",
       "|---|---|---|\n",
       "| -164.8849 | -237.192  | -92.57771 |\n",
       "\n"
      ],
      "text/plain": [
       "  fit       lwr      upr      \n",
       "1 -164.8849 -237.192 -92.57771"
      ]
     },
     "metadata": {},
     "output_type": "display_data"
    }
   ],
   "source": [
    "#prediction interval\n",
    "\n",
    "m1 = colMeans(model.matrix(lmod_3_aic)[,-1]); m1; newdata = data.frame(t(m1));\n",
    "predict(lmod_3_aic, newdata = newdata, interval = \"predict\")"
   ]
  },
  {
   "cell_type": "markdown",
   "metadata": {},
   "source": [
    "Answer:\n",
    "\n",
    "The estimated coefficient is -6.739.However, the p value is not significant, so we shouldn't conclude too much from it.The two models have similar conclusions. "
   ]
  },
  {
   "cell_type": "markdown",
   "metadata": {},
   "source": [
    "### Problem #4\n",
    "\n",
    "#### Using the pulp data, determine whether there are any differences between the operators. What is the nature of these differences?"
   ]
  },
  {
   "cell_type": "code",
   "execution_count": 23,
   "metadata": {},
   "outputs": [],
   "source": [
    "library(faraway)\n",
    "data(pulp)"
   ]
  },
  {
   "cell_type": "code",
   "execution_count": 24,
   "metadata": {},
   "outputs": [
    {
     "data": {
      "text/plain": [
       "\n",
       "Call:\n",
       "lm(formula = bright ~ operator, data = pulp)\n",
       "\n",
       "Residuals:\n",
       "   Min     1Q Median     3Q    Max \n",
       "-0.440 -0.195 -0.070  0.175  0.560 \n",
       "\n",
       "Coefficients:\n",
       "            Estimate Std. Error t value Pr(>|t|)    \n",
       "(Intercept)  60.2400     0.1458 413.243   <2e-16 ***\n",
       "operatorb    -0.1800     0.2062  -0.873   0.3955    \n",
       "operatorc     0.3800     0.2062   1.843   0.0839 .  \n",
       "operatord     0.4400     0.2062   2.134   0.0486 *  \n",
       "---\n",
       "Signif. codes:  0 ‘***’ 0.001 ‘**’ 0.01 ‘*’ 0.05 ‘.’ 0.1 ‘ ’ 1\n",
       "\n",
       "Residual standard error: 0.326 on 16 degrees of freedom\n",
       "Multiple R-squared:  0.4408,\tAdjusted R-squared:  0.3359 \n",
       "F-statistic: 4.204 on 3 and 16 DF,  p-value: 0.02261\n"
      ]
     },
     "metadata": {},
     "output_type": "display_data"
    },
    {
     "data": {
      "text/plain": [
       "  Tukey multiple comparisons of means\n",
       "    95% family-wise confidence level\n",
       "\n",
       "Fit: aov(formula = bright ~ operator, data = pulp)\n",
       "\n",
       "$operator\n",
       "     diff         lwr       upr     p adj\n",
       "b-a -0.18 -0.76981435 0.4098143 0.8185430\n",
       "c-a  0.38 -0.20981435 0.9698143 0.2903038\n",
       "d-a  0.44 -0.14981435 1.0298143 0.1844794\n",
       "c-b  0.56 -0.02981435 1.1498143 0.0657945\n",
       "d-b  0.62  0.03018565 1.2098143 0.0376691\n",
       "d-c  0.06 -0.52981435 0.6498143 0.9910783\n"
      ]
     },
     "metadata": {},
     "output_type": "display_data"
    }
   ],
   "source": [
    "anov = lm(bright ~ operator, data = pulp)\n",
    "summary(anov)\n",
    "anov2 = aov(bright ~ operator, data = pulp)\n",
    "TukeyHSD(anov2)"
   ]
  },
  {
   "cell_type": "markdown",
   "metadata": {},
   "source": [
    "Answer:\n",
    "\n",
    "given p<0.05, there's a significant difference between the operators.\n",
    "\n",
    "The nature of the differences can be explained by the TukeyHSD table. "
   ]
  },
  {
   "cell_type": "markdown",
   "metadata": {},
   "source": [
    "### Problem #5\n",
    "\n",
    "The morley data can be  viewed as a randomized block experiment with Run as the treatment factor and Expt as the blocking factor. \n",
    "\n",
    "#### Is there a difference between runs and what efficiency is gained  by blocking? (Make sure factors are stored in R as factors!)"
   ]
  },
  {
   "cell_type": "code",
   "execution_count": 25,
   "metadata": {},
   "outputs": [
    {
     "data": {
      "text/html": [
       "<table>\n",
       "<thead><tr><th></th><th scope=col>Expt</th><th scope=col>Run</th><th scope=col>Speed</th></tr></thead>\n",
       "<tbody>\n",
       "\t<tr><th scope=row>001</th><td>1   </td><td>1   </td><td> 850</td></tr>\n",
       "\t<tr><th scope=row>002</th><td>1   </td><td>2   </td><td> 740</td></tr>\n",
       "\t<tr><th scope=row>003</th><td>1   </td><td>3   </td><td> 900</td></tr>\n",
       "\t<tr><th scope=row>004</th><td>1   </td><td>4   </td><td>1070</td></tr>\n",
       "\t<tr><th scope=row>005</th><td>1   </td><td>5   </td><td> 930</td></tr>\n",
       "\t<tr><th scope=row>006</th><td>1   </td><td>6   </td><td> 850</td></tr>\n",
       "</tbody>\n",
       "</table>\n"
      ],
      "text/latex": [
       "\\begin{tabular}{r|lll}\n",
       "  & Expt & Run & Speed\\\\\n",
       "\\hline\n",
       "\t001 & 1    & 1    &  850\\\\\n",
       "\t002 & 1    & 2    &  740\\\\\n",
       "\t003 & 1    & 3    &  900\\\\\n",
       "\t004 & 1    & 4    & 1070\\\\\n",
       "\t005 & 1    & 5    &  930\\\\\n",
       "\t006 & 1    & 6    &  850\\\\\n",
       "\\end{tabular}\n"
      ],
      "text/markdown": [
       "\n",
       "| <!--/--> | Expt | Run | Speed |\n",
       "|---|---|---|---|\n",
       "| 001 | 1    | 1    |  850 |\n",
       "| 002 | 1    | 2    |  740 |\n",
       "| 003 | 1    | 3    |  900 |\n",
       "| 004 | 1    | 4    | 1070 |\n",
       "| 005 | 1    | 5    |  930 |\n",
       "| 006 | 1    | 6    |  850 |\n",
       "\n"
      ],
      "text/plain": [
       "    Expt Run Speed\n",
       "001 1    1    850 \n",
       "002 1    2    740 \n",
       "003 1    3    900 \n",
       "004 1    4   1070 \n",
       "005 1    5    930 \n",
       "006 1    6    850 "
      ]
     },
     "metadata": {},
     "output_type": "display_data"
    }
   ],
   "source": [
    "data(morley)\n",
    "head(morley)\n",
    "morley$Expt = as.factor(morley$Expt)\n",
    "morley$Run = as.factor(morley$Run)"
   ]
  },
  {
   "cell_type": "code",
   "execution_count": 26,
   "metadata": {},
   "outputs": [
    {
     "data": {
      "text/plain": [
       "\n",
       "Call:\n",
       "lm(formula = Speed ~ Expt + Run, data = morley)\n",
       "\n",
       "Residuals:\n",
       "    Min      1Q  Median      3Q     Max \n",
       "-206.60  -37.35    4.90   44.27  132.90 \n",
       "\n",
       "Coefficients:\n",
       "              Estimate Std. Error t value Pr(>|t|)    \n",
       "(Intercept)  9.506e+02  3.599e+01  26.413  < 2e-16 ***\n",
       "Expt2       -5.300e+01  2.323e+01  -2.281 0.025325 *  \n",
       "Expt3       -6.400e+01  2.323e+01  -2.755 0.007343 ** \n",
       "Expt4       -8.850e+01  2.323e+01  -3.810 0.000281 ***\n",
       "Expt5       -7.750e+01  2.323e+01  -3.336 0.001317 ** \n",
       "Run2        -5.200e+01  4.646e+01  -1.119 0.266588    \n",
       "Run3        -2.800e+01  4.646e+01  -0.603 0.548545    \n",
       "Run4         6.000e+00  4.646e+01   0.129 0.897591    \n",
       "Run5        -7.600e+01  4.646e+01  -1.636 0.106032    \n",
       "Run6        -1.040e+02  4.646e+01  -2.238 0.028125 *  \n",
       "Run7        -1.000e+02  4.646e+01  -2.152 0.034551 *  \n",
       "Run8        -4.000e+01  4.646e+01  -0.861 0.391996    \n",
       "Run9        -1.000e+01  4.646e+01  -0.215 0.830167    \n",
       "Run10       -3.800e+01  4.646e+01  -0.818 0.415992    \n",
       "Run11        4.000e+00  4.646e+01   0.086 0.931621    \n",
       "Run12       -1.733e-13  4.646e+01   0.000 1.000000    \n",
       "Run13       -3.600e+01  4.646e+01  -0.775 0.440851    \n",
       "Run14       -9.400e+01  4.646e+01  -2.023 0.046576 *  \n",
       "Run15       -6.000e+01  4.646e+01  -1.291 0.200492    \n",
       "Run16       -6.600e+01  4.646e+01  -1.420 0.159552    \n",
       "Run17       -6.000e+00  4.646e+01  -0.129 0.897591    \n",
       "Run18       -3.800e+01  4.646e+01  -0.818 0.415992    \n",
       "Run19       -5.000e+01  4.646e+01  -1.076 0.285271    \n",
       "Run20       -4.400e+01  4.646e+01  -0.947 0.346641    \n",
       "---\n",
       "Signif. codes:  0 ‘***’ 0.001 ‘**’ 0.01 ‘*’ 0.05 ‘.’ 0.1 ‘ ’ 1\n",
       "\n",
       "Residual standard error: 73.46 on 76 degrees of freedom\n",
       "Multiple R-squared:  0.3363,\tAdjusted R-squared:  0.1355 \n",
       "F-statistic: 1.675 on 23 and 76 DF,  p-value: 0.04956\n"
      ]
     },
     "metadata": {},
     "output_type": "display_data"
    },
    {
     "data": {
      "text/html": [
       "<table>\n",
       "<thead><tr><th></th><th scope=col>Df</th><th scope=col>Sum Sq</th><th scope=col>Mean Sq</th><th scope=col>F value</th><th scope=col>Pr(&gt;F)</th></tr></thead>\n",
       "<tbody>\n",
       "\t<tr><th scope=row>Expt</th><td> 4         </td><td> 94514     </td><td>23628.500  </td><td>4.378144   </td><td>0.003070589</td></tr>\n",
       "\t<tr><th scope=row>Run</th><td>19         </td><td>113344     </td><td> 5965.474  </td><td>1.105348   </td><td>0.363209341</td></tr>\n",
       "\t<tr><th scope=row>Residuals</th><td>76         </td><td>410166     </td><td> 5396.921  </td><td>      NA   </td><td>         NA</td></tr>\n",
       "</tbody>\n",
       "</table>\n"
      ],
      "text/latex": [
       "\\begin{tabular}{r|lllll}\n",
       "  & Df & Sum Sq & Mean Sq & F value & Pr(>F)\\\\\n",
       "\\hline\n",
       "\tExpt &  4          &  94514      & 23628.500   & 4.378144    & 0.003070589\\\\\n",
       "\tRun & 19          & 113344      &  5965.474   & 1.105348    & 0.363209341\\\\\n",
       "\tResiduals & 76          & 410166      &  5396.921   &       NA    &          NA\\\\\n",
       "\\end{tabular}\n"
      ],
      "text/markdown": [
       "\n",
       "| <!--/--> | Df | Sum Sq | Mean Sq | F value | Pr(>F) |\n",
       "|---|---|---|---|---|---|\n",
       "| Expt |  4          |  94514      | 23628.500   | 4.378144    | 0.003070589 |\n",
       "| Run | 19          | 113344      |  5965.474   | 1.105348    | 0.363209341 |\n",
       "| Residuals | 76          | 410166      |  5396.921   |       NA    |          NA |\n",
       "\n"
      ],
      "text/plain": [
       "          Df Sum Sq Mean Sq   F value  Pr(>F)     \n",
       "Expt       4  94514 23628.500 4.378144 0.003070589\n",
       "Run       19 113344  5965.474 1.105348 0.363209341\n",
       "Residuals 76 410166  5396.921       NA          NA"
      ]
     },
     "metadata": {},
     "output_type": "display_data"
    }
   ],
   "source": [
    "lmod = lm(Speed ~ Expt + Run, data = morley)\n",
    "summary(lmod)\n",
    "anova(lmod)"
   ]
  },
  {
   "cell_type": "code",
   "execution_count": 27,
   "metadata": {},
   "outputs": [
    {
     "data": {
      "text/html": [
       "1.10534766026777"
      ],
      "text/latex": [
       "1.10534766026777"
      ],
      "text/markdown": [
       "1.10534766026777"
      ],
      "text/plain": [
       "[1] 1.105348"
      ]
     },
     "metadata": {},
     "output_type": "display_data"
    }
   ],
   "source": [
    "5965.474/5396.921"
   ]
  },
  {
   "cell_type": "markdown",
   "metadata": {},
   "source": [
    "Answer:\n",
    "\n",
    "There's no significant difference between runs because the p value >0.05. The efficiency is that we need 1.1 more to have the same power as the block design"
   ]
  },
  {
   "cell_type": "code",
   "execution_count": null,
   "metadata": {},
   "outputs": [],
   "source": []
  }
 ],
 "metadata": {
  "kernelspec": {
   "display_name": "R",
   "language": "R",
   "name": "ir"
  },
  "language_info": {
   "codemirror_mode": "r",
   "file_extension": ".r",
   "mimetype": "text/x-r-source",
   "name": "R",
   "pygments_lexer": "r",
   "version": "3.6.1"
  }
 },
 "nbformat": 4,
 "nbformat_minor": 2
}
